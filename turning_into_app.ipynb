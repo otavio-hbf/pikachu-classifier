{
  "nbformat": 4,
  "nbformat_minor": 0,
  "metadata": {
    "colab": {
      "provenance": []
    },
    "kernelspec": {
      "name": "python3",
      "display_name": "Python 3"
    },
    "language_info": {
      "name": "python"
    },
    "widgets": {
      "application/vnd.jupyter.widget-state+json": {
        "6e33ae1694cf4e20829d1b2a40a1f236": {
          "model_module": "@jupyter-widgets/controls",
          "model_name": "VBoxModel",
          "model_module_version": "1.5.0",
          "state": {
            "_dom_classes": [],
            "_model_module": "@jupyter-widgets/controls",
            "_model_module_version": "1.5.0",
            "_model_name": "VBoxModel",
            "_view_count": null,
            "_view_module": "@jupyter-widgets/controls",
            "_view_module_version": "1.5.0",
            "_view_name": "VBoxView",
            "box_style": "",
            "children": [
              "IPY_MODEL_0b1a24b8847d47a0b7a5d4160e54067f",
              "IPY_MODEL_254a19abd3ab4e78bcd56725e2f0c8fb",
              "IPY_MODEL_ffa2182da84d4e25adb7be3ef7bc255e",
              "IPY_MODEL_0ee87faed5ba4e4cbee481e98ecb59c1"
            ],
            "layout": "IPY_MODEL_0156358b6c744f68925113af78f0c46c"
          }
        },
        "0b1a24b8847d47a0b7a5d4160e54067f": {
          "model_module": "@jupyter-widgets/controls",
          "model_name": "LabelModel",
          "model_module_version": "1.5.0",
          "state": {
            "_dom_classes": [],
            "_model_module": "@jupyter-widgets/controls",
            "_model_module_version": "1.5.0",
            "_model_name": "LabelModel",
            "_view_count": null,
            "_view_module": "@jupyter-widgets/controls",
            "_view_module_version": "1.5.0",
            "_view_name": "LabelView",
            "description": "",
            "description_tooltip": null,
            "layout": "IPY_MODEL_d5e112ad04234c7eace362e88f307b65",
            "placeholder": "​",
            "style": "IPY_MODEL_7ca780f82ad1476d83a1ba7f949b278c",
            "value": "Select your pikachu evolution!"
          }
        },
        "254a19abd3ab4e78bcd56725e2f0c8fb": {
          "model_module": "@jupyter-widgets/controls",
          "model_name": "FileUploadModel",
          "model_module_version": "1.5.0",
          "state": {
            "_counter": 1,
            "_dom_classes": [],
            "_model_module": "@jupyter-widgets/controls",
            "_model_module_version": "1.5.0",
            "_model_name": "FileUploadModel",
            "_view_count": null,
            "_view_module": "@jupyter-widgets/controls",
            "_view_module_version": "1.5.0",
            "_view_name": "FileUploadView",
            "accept": "",
            "button_style": "",
            "data": [
              null
            ],
            "description": "Upload",
            "description_tooltip": null,
            "disabled": false,
            "error": "",
            "icon": "upload",
            "layout": "IPY_MODEL_c893b096d5d4453d9056aca0271d03b2",
            "metadata": [
              {
                "name": "pikachuzera.png",
                "type": "image/png",
                "size": 25296,
                "lastModified": 1682217766638
              }
            ],
            "multiple": false,
            "style": "IPY_MODEL_75bdbad63dad4c7192b7ac18d3ca1136"
          }
        },
        "ffa2182da84d4e25adb7be3ef7bc255e": {
          "model_module": "@jupyter-widgets/output",
          "model_name": "OutputModel",
          "model_module_version": "1.0.0",
          "state": {
            "_dom_classes": [],
            "_model_module": "@jupyter-widgets/output",
            "_model_module_version": "1.0.0",
            "_model_name": "OutputModel",
            "_view_count": null,
            "_view_module": "@jupyter-widgets/output",
            "_view_module_version": "1.0.0",
            "_view_name": "OutputView",
            "layout": "IPY_MODEL_2dd7c8c0b9194acaaf037d14e42c6fb6",
            "msg_id": "",
            "outputs": [
              {
                "output_type": "display_data",
                "data": {
                  "text/plain": "<PIL.Image.Image image mode=RGB size=128x126>",
                  "image/png": "iVBORw0KGgoAAAANSUhEUgAAAIAAAAB+CAIAAABjxI71AAAux0lEQVR4nO19d3hURdT3mdu2ZlNJDyWEkAAJGDrSQUCKShEFpXcpgigogkhXUUAp0ruAIBJEUEEQUUqoIYQSIIWQnmyS7Xdvm++PBEhnd7PL6/e93+/Jk2f37r0z554zc2bmnDNnEMaY5/mHDx9ijN3d3X18fGQyGfx/vChQAPDnn38OHjy4RABhYWHR0dE9e/Zs3bp1SEjI/zR5/+8DYYzPnj3brVu3Cj/4+vq2b9/+zTff7NHjFX9/3/8R4v43AGGMdTpd27Ztk5KSqryjeVSDnq8MfGvYqNatol8wcf8bgDDGALB48eKFCxdWeceyWe4NQ4mDx2m1b+9x46d27tT2xVL4fwF4njcajWlpadnZ2ZIkeXl5RUdHq9Vqmx7GGGOMHz165OtbtZ5Z9YkPzgnn7zQ4usHz9Z5e77474vKVePy/HoIgJCUlbd++ffLkyR07dvT395fL5QghAKBpes2aNTaWA08/zZkzp0oBfDrFE6c2wvfDcFoj/k6Dfd+4d+9QZ9r02Y8zsl3zav913Ey4s2Tpl126dFGpVFVyDCF08uRJG0t7JoDHjx8HBARULm78mxqc2ggnheGkMHw/DD9qpIuvv2ymqm3Lhhs27hAEwTWv+Z+DVlu8a/eP/fr179DSp09Hqgal0rJlS4vFYmOxUPbLV199Vbm4Xh2VOPmJAEr+HoTh9Ea3fwt8o6e8/4CBd+7ed8H7/oeQdD/1s4VLX+nabNwQ5fHN3rrE0HM/BCFUrQB27txpe+Glg3AJDAZDly5dbty4Uba4po2Yaz+HyGQIcPl6aCTx0oY9eZsOu8/4YNmE8SNraBT/lyLxzoNtWzfdTzjUs3Xhm33cg+srAQNQsGe/fuSc3Cofadeu3enTp5VKpY1VEGW/uLm5ffHFFwzDlL2YpxVz8kUgK0mcxwRC0yb4714h7twwYczY94qKi22s9b+PtLTMDz+a++nMbjH+W3/8Gs2aEhAcrAQrBg4DRo+yhCqfIghi/vz5tnMfKggAAHr16jVhwoSyV7TFYkYuX+lGAADAACx+qbn6+PYgVLT91Vf73759z/a6/5swmdnVa75/b1zXxu4b939Dj3jLV62mgcUgYgAABCDglHS+ymf79u3bu3dvu6qrgq8LFy5s2rTp06+SBAlJHFSv8oDDHm7k9m9CBr2c8NqA3n/8cdouCv5TOPv3xeFv9S16MGfXCuuEkX5KBQVWDFK5e0RWSkrlKj+rVqsXLVpEUTWNz5VRhQDq1Kmzbt06hULx9ErcTetzihEBRJgzw3/5dNP4sYP27D1gFxH/Beh0xvkLFq3/csCnY24vnhNQx0sGbEXWAwAQUKSXkqvqATNnzoyJibG33io1C3Tt2nX+/PlPv968Z7XopWrufQIMwOK3hnjtXK6Y99GY9Ru22EvK/yAuX00YPeI1D+6bH77RtIlxr9zqn4FE99P4In3Fn1u3bv3RRx85UHW1TP3www/feOONks/3UrjUDL6KcbgyLLhHN83+1R5fLJm+dt0mBwh68di8ddfSeX3nvJP44VR/hiaBwzXdTULiA47jy93j7u6+du1ajUbjQO3VCoBhmHXr1kVGRgIAa8XnLluAtK1IFnfsoDmwxuvLpe9v2rzdAZpeGIwmy8yZH9w6O2PHcrJ9W4+qdU4FCHAtka1wbenSpW3bOmgiq0mtBAUF7dixw8vLCwD++NeMeVzTUFwWrPRye7cfvvFcOH/qwYM/O0aZq5Galjlm1JsNVVvWLqrj7Sl7TsMvAQKRxVcSyglgwoQJ7733nsNk1KzXoW3btuvXr6dp5myc5fFjwSYtVAJW6tLJbctit5kzxv997rzD9LkIV64mTJs0YEyvi9MnBYCESqeYzwWJHqbzKY+fLQK6d+++cuVKgngOG2vA8598++23lyxZXGyQjpwyAG1P2Swe0M/z8/fwuLGjkpNTHSbR6Tj157lFHw9cMjmzbx9vYHHFFX4NIOFqIqszluqp6OjonTt3uru714YYm0Q3d+7cadNnbtynNReJto4EJWCliaPqDOmaOWbsBKPR5BiJzkXs0d/XfTXs20/YmBh3YG3nPQAAYDj5r7nkY1hY2IEDB2rvtS1nC6oBHMeNGTtRye7f+EUICej5g9VTEMCLeMiUtLpRs9Z+u9JhQp2C2KO/7d00du2nZECQ0ialXxYkFBVKMQPT0zKFsLCww4cPR0c7wUVoq/JiGGbz5u9z+QFzlmYAAbaOxgAgAc0QG5cF//372p8OH3WMSqfg+InTB7eP+34hFRBoP/cBgEb/XrOkZQqNGzeuDfcxhrRH6SdPnd29e09ubo6tPaAERcW6d4a/G1P39NI5QSCBHf1Ahs7+rZv+pduJ3/8OCQmyi2JJAlGSntKJABEEQdqlCQH+Ontxy5q3V38s+fkpgLef+yRIAH1GpOQYWxw6tK9x48Z2PS2I0sMHyXGXr50/f+Fm/OXiwsdusoL7qdyJP87bJwAAKCwsHjN2bHTA70s+DAJsjwzkaOnXmbcLhuz7YSeq3ppuMFoyM3MSb99Nf5RcpM0sKMjW6wrNJqMg8IAQYEySpEyuVKk0Hp51PL38ff1DwsMbR0aE+9bxqm4yciP+zjdLBq+YqQ8JVjnCfRoZDML0z7JyrT22bt0SFBRo43PFOv2lS1dOnToTd+lsYd79oDrFrZrSbZsrm0cqvD2p3uOKN+++ZLcAAECnM0yYOKm+OvaLTwIJhEC07TEELI8HTs4ePW3fW0Nfr/BjgVZ/8VLc5YunUpLOKanH9f2t/j58vQCyjg+tUZEK2bOZHgYwWySDSdQWCTn5QoGOyNUyj/I83byiQsPbvdypR3RUE5XymUU97VH2wrkDF4x7FNbIzRHNIyeSH5onfZrfIGrC6lVfqNVVuyHLIr9Ae/bsv8eOHU+8eU6GMtpGCd1fdmvTTOlXh0YKAiQADMUFXN8pwg+HHBIAAJjN7PszP6AMO9cs8JfJKRBsK4RBN28a3v/a76fYv3y8PUuu3bmX8uvRH9LvH23on9aqKWreWKHR0MAQgFCplsMAUGayiAAAAQJAUDoaiRJvETNz2Jt3uct3qCK2aWSLN/oPGNKgfqDeYPlk9jvjXv03JsYDrHa+KQHAoBMnC+evwaMnLZ8xfVLNt+v1hr/PXTh8+OeEG39pZOm9OpC9Ors3b6ygVSQAgICfvAsAhZJTzOMWeRz8+ZyDAgAAQRA/W7g05cbK9Yu8vevYtpIEADn68tssi2be5wvnPXiYfuTger7wpx6t9C2jVbSKLl0TYbBjbl6CEmFQCDAuLmAv3DBfTPQNaDT68ePsruF7e7/iZfeMk0ZWVlyxPufP65HLv1zbuVP76m6UML5y+frBQ4fPnvlFiR707cr076aJCleAnAARQKhqnUGjK9f08zeFx/5yynEBlGDT5l3Hfpzz5WyiaTM3m16SAKOZHzefatFuDG0++GqHnKYRakBk1YQ6BgRAIxCExHuWK7f4t/q5KxWEHYUjABm6k2j8ZJXBr+GoFcuXeD/prBWQnp55JPbX2CM/srrrnWO4IX3cY5qpSCUBApQ2o+rAoD/+LFz/S8dffomtrQAA4PSZ89+smDJ5UMZrfb2Bt2FYplF8giW3gO3dxQ0Im9WXA6AQEGCf3meQYBE37s/7+e/6k6ctG/rma5Vv4Xjh3Lnze/fui79yPKJuwbAB6m7t3DTedLXtvTJkaMe+vHMP396xbaN97psq0aP7y6GhJxbOn5344LfZE7xlcvo5Mw0et4hSAKEADoPkMu4D2CdaEoBCl68Wf7ND8ms4Yfe+OcFB/hVuycvTHv756OFDezjD1f6d8cK1ng3q1wUCgMf2qrjH2UL9evXB9pXwc2HlhDVr1t67/NUnEyE8wg2sldoCsl+zvxggABnKz7as36u/k9V+yvSF3bpW1PiJt+/t2rX3n78ONQp4/O5rqm7tNYwb+XxVUx1kaPyHGZ1f2zFyxFtO6AGlZTLU3Dmz/vn35c+/ndOn9c13B3oSVBn1QgLHYoIAynZ7qutAPNGTCIBBrIH78UjxiYsNXum/4pOv35bJnvFEkvCZv/7Ztm1rWtIfPduadi/1CA8PAoQcaPLlIEFmLjRo0ACc2AOeolhnWvvdqryHm6YOFyIi3IAHIFBGBn85ge3fQ8VQleKLXixEEecXif7+NBAgsfzv5/SHz/g0bjlxzJhxdXw8nt5mtrBHj57YuWOTYLj0dl80qLentx8Ngp1qrUogMJuE12dwG7afbxRW3/kCKMG/56/u3rYkOvifsW+6sVZqb6z+rf5ufj6kHStn10AiIPZ3I0MjN4148He1T/3hI0dPbtjgmXVEpzMeOPjzgR82eclujhks79XRnVGTwNngLLMRJHqUbp6w1OfQkX/dNWpXCQAArJy4f/+BuL9Wy+H+9JFeoQ0YR8wATgcCq4inLci2ygfNm784onGDp79oC4t3794Xe3hrqO/98UPVL7dUA00A57z5cQlodPmqbvHOmF+P/wYlW5RcBBlDjh71TnLyw2iv70LDmFopTScCg4xBn0x0X3nQWL9+qTU/J7dg9+4fjh/dGlU/Ze1c9+imAQAIBGz34tkWEJDymKvXoNSc50IBAEDclZu69C2DR3n8V7hfAgFCG6vDvE6vWrV65MgR27bvOvP79rYRGVs+8whvHAgSAt6BtbjNQHDnIdekWbOSby4UgChKW77/akJfK0EobXW6vjDweOyb3j1Gr/jj2KbuLXP2LPOs2yAIRACrK1lfAgmnZZGdBru+ByTcumvKP9Umxv0/oforQARPP7pne8lNkb9gXhCYXKNtKoMAUzGvt3g1DK3/5ILLcOzYr51iWES7sIpaQYCBr7jFJ4lgwi+ugxIoT8tbRP+6IaVOBVdxR5LwvTtxL0XK/sfnndVCxJGhjCBAbp7gynZYHgTcfcgG129GUeSTC66BwWjWFT6qGyRzrbWnNpDAw5v01BCPMm2LunQKSLh2m20W9SyG11UCYFmrldV5aqj/bg8AABIC/ag8rWhHjEFtgABbpeQMWbOmUU+vuXAQRgDVun5L/Ccl9jkbPZoOVE+gUs5WZzLD0CCYzsp/cQIw6PmMAveoqCZPr7mqBzAMzchVZlaq4t1oBARotWJWNq8t4ADZGexlCygEkpiZyaakcpmZPJYAmKp4jCHIj8zXuqgJVAKJHqSxas/Gfr7ezyh1UV0URclkSqtVW1EADIq7Zlm9vfhyAqs3Cs0iQzq1Ykb0N4eHyaDqfVf2g0bxt4xbDyvOX5du333sriFaNZPPHufZs7OyssNE40aa2RelJUm4kmBp0rRNWcXgqh5AkiRNy4UK0zsZij1h7DU668cTxtQMPOm9+dv2/jNi+skb+bNu3+Oc0xhodP2m6dj1Qe99/OfhX85/umBxQRH8/o95wKSsnQd1FfsBBhkNkvSiHBUivpmEYlqVC2R3nQAIiqIFAT8LoqNQUhI36bM8vVECgHr1gj/5ZG7D0Hrhjer27Dvp+598TAa+trqYALOR23DQfcKUpU0iG4Q2qDd37kdNm5ZucXh/acGNeBbocnVQJJJeTAdAwBqEh5matm1alifZNcAYSBJoqowbjISN+4rznihchmGe7odVK6kL8XDhqrkCd+wGia4mWC4nkj7ebk9r8fDwKPmsN0qbDuhrVX5tQKHE+yYP3+YBAeVycrhwBUKSiKaf8J8A3iRduPFss19mZub586X7BhIS4u/cvZ9wv9azERLupUgPH6ZeuHih5MKtW7fu3r379PdLN1iJK7PNBANCIL6AZTACkKG4BDaqeSeKLMdzVw3CoiAC5tRK8mkHsHKYLWNvMZvN77zzTp8+fQiCOHnypJU1WjjvqsuyBxgji8U0fNiwPn36AMDp06cLCwufVcpKWCrX6mgaWVxkqUUAJCqZ4Jl1/L3bpqNnxCWrelW4y1UCsPI8gfVy2bOAQqWS8PIgfBWgkkFaMWCA7OzsHTt2PH2kflCtiZGgUT0GADIzM7dt2/b0MgJo6AUWKwT7U2TZSjAoZMjEShKHCafEDKAnUUkYY6t0L9l8LcFyPl5MzfIkFc16D3ytZUxUhSdcJYDMzGwllUMx8tKVMAZCjvp0UqbfsUT5ga+GzDMTerOgprGfGvL0YKbJzq0Vz5mJoicjenXDpoBbNZe9FMlAAadWQIYeeEyo5KSXTPKRi0m50K+bChj0zPCJsUZNmC1Yp5c8PewJ3qoA4kljt4p5eVxcgvHKLXztLkOrIus1bN19cJeWL7VoEBpSpX51lQDOnTvXKNgMtBKeqn0Oxg3VHP3DmJtvbRuhpmhSb+IKi4w8D7l6+Gy6V916dM1BVByHOR6TJFLIqhkrJNB4kCs+8vlofo6SkFoGoiB/N4amzGY+IVkfESUf+2Z52zgGT0/SzEr5haKnF2mf2eqphpEkXRF/76Hl/A3r7RSF1hgS3KDNS61eHj6jXb26wQoFU3MxrhLA1bi/RnUnAZfp2BL28aF2fuM/c1HexRS2rhcj8kJ2EWAFOXe215R3PZ7jNqDQsu8KD5wwRocze772k1fO3lICDvfupqJWBHy9Tvsw3aoTrAwtspLQtL16wQd1PD2IcmENGEgZ8nIn7z60hoc/h1OlIEoD7kQTn5LCxt2yXEmkMrX+3v7domM6Th7ctklkI5VKbhuTAFwRlgIABQVFg15rHbua9/JmKqoLGllM0u/nzFcTWKsV1w2iendRNW7EAP883zcByY/4xPtcsB8V06y6LvAEDDIWSxfj2aw8niJR4wZ0qyg5EFXthpSh77YUpWQIaxb7QnVL4jKNPT+XTUxi/77Kp+b4ilRE9EtdW7ZqF/NSc09P2zLEVS7bFQL49fipbd8OOrLRH2gEEgACkOAZi4mSYaqkfigNqbQFJALqSVHPRUktpca46qM2aXTxiuXTVdoTWwPl8kp732gEBBbN/N1ky7VE4fJtxiyF+wS27tCxR/PoqNAGwTaRXSNcooL+Pvt3ZKjwIFu8GmfW5oskhRqGMx1j5EoVURpg45j/T7THdFpDLSSUtgwMQENUuKygSEx9zEc2LuO9QIAxXLnBnr8m3knzUnl1jWjWZdKcDmFhoUqFXZt1nwMXCADjS5f/URgFzb+5TY0QSRImCa5Jxp/rEoMnebzSSen8SBvbgQBo9CiLv3jRknGf41is8af69FXVD6YvJ1gjm5YzCEoI1u/Ol/nP+GLtfG8vN1dR5HQVlJmV1bZly+/ookF1FGWXPBlG6SuDtckU98nDa3TTlyiNyr+jJ82WeLLbpMpna3gbEjgBb/5Bn3nY1I1FTWiCRugRJ53xwL8SYvvmipULfcBS5nkC5RVyM5YSkz/c17Vzu+e8tqNwviniQUoKpdN295IBARg/+wtWEyvryO+u1e371QDVDaIITGZJFACo8hZbObIKeNePugkf527aXaw3SiBH5WhHAAB6Q1XuhyeFmFj80Wf5sq3GpQzdy4sOdiP9VEQbL2q2RNe7Jz7I5MFaPhmGhH19mSXT2S8XjYy/ebeacmsL5wsgX1vobuXlRMV1DcYgo9CiOrKj3xWnpvNVKz8EJhZvP6xLTuWAREAhIFFOvrh9n27A+OxL8dZZ4z0RgSbNz9uyV5enFYFGIEcgR5wIu2P1j7KqyWaBQERowUpt9Dl+QpCcJFFpswDAGGgaDfdmirWiULlfcrhRuHrhxOKPPxyR9ijLOQwqD+ePATRFMSQAKmOIfgKMwUNBDiwk9hzWfzbLu4rJjwS+daj2MYo1O4utPPZQk5n5QnauUC+Qnj/Vs3M7JQA0acz076bce9QwbVF+sD8VXp+RME55xHdvp2gWyVQ9oWLQj0cN6IRlXF0FVNa5GMsIsJglQQSKrqTErLhde4/J+Skzpo3eueuQl1etMkNUhvMF4O/ra1AozIIkZ8gqNDLGvT3pY/9YzBMkpayqlAcCbhYhWz3PJ+WxUKwX5QwK8KXq+FGAnmw2EiDQn5oz1UunFW/dsyal8u5u5MCe6oBAquqhBYFRL/28W7fKW1Yyt6l8gwVjRAJRnfpi8Ruv+WTnX5o6bcr2bTsUCmeer+B8FRTROBzqBCaZqs4rCBg8ZMhbi1MyhWrfWMAUhcLDmDYtFdHN5HXqkMDjclYKEcCK3TVEx/bKce+6D3ndLcCfrHZgp9HFm2zIY6mumqxmwoEesZLak6Tp6vcuWPGUMX5h7kdnfzhHcmqgjfMF4KHRtO7aLVbLVhkTgQEQAg8MeUU1Wv8xgICBxyBUP/cvWZFZMVhrXB8guHnH2oYmAVXDOIwvGMTmETIkr14AGECAhR8EcLlbFi1eUX1ldsMlDpmxo0Yd42Vaq1A1hzGYATTqWlgf7URWrlBfVnV1CEDH46uC2KeD4jkhTBJQBPHtQr/4f5ev/35bjbfaAZcIoGvHlyP7D/z2saGykkEIijkpxws1rku/sKA5mkLVVkXA8ULeI4LpGKN4vkVExCoVvXGJ10+7Pjz8869Ooc0lAkAILV28+EdFQFyRBVWQAYLd+Vzr/io3DfHCguaaNGJSuCqUFAKwirAqyzz4VbnCu6opQ2UIOCBQvn6h4qslE879c6n2tLnKJxwZ3mje16umZApZLF8yFpQEyv2cxd1qTY8f9gJj1gXcvYPithcSeFxxVCLQjhyTrlHkqQt+W7dmS4DLLQCrgxU3aer25Wxx1ox3b9+p+twX2+FCp/yoYW/3mbtg+H1jAS8hhAoteG0me6o19cXiOir5i2v+IEJIIN1hivt2E2+0SCXtoOR/fDG7XvI4dPDHrbv/PJ86dNRHBfcfGkGOapodlICVunbxnDOycOzo4RkZtVqguXCTHgBIojjjo7m3Nn07sD6jrUs17qUc2lfNUDZnKXQiGPTXefOlPQbvZMFXQiBHVzj+hyxYsXPvsDeHlNxyJPa3nVs+79suadxQL4qpZlVRFnK0an32iWvtDx8+7O7uoLXOtQIAAEmSevYdcP/2b39urxsRLQO99D9mCmWQxSIlpfHFJknkpZnLtKPGrfxw1vSytxQVG9avW1eQun3SUGtEQxmquZsiABLNXpyeZR2yY8c2udyRBZrLdyYQBBFR32t4L+WID3L+OmUCmQ0d3EXgsIJCLaLlzUOZbT8Uk1gzbOiQCrd4erh9MPujfK77tzsKbYqYo2Hlp8EZ936Y/eFcx4hy7S5JAMAYTIaiJdM9eneBj1cWvHvfbdpID0QiFyZJqQEylBDPzltZ8O4b6peymfSM3KCgZ8fmSBhij56I/fGLXi/de6uvP1mDcRsBMEiySmfO6LYdMliJiPBGoY5R5HIBCAJmzXkYoR7dFYdDA+Z9UzD+47wls7wDg6kX6pkhAQh0KNaw64hhzkSvzj2U6zcU5eRkAbQo+f1mQtKW75d7kceXT5UFh3hUSxsBwCCLXjh2onh3LM+Srd4aNnbDoAGenh6O0eVyAeQXaBlSp1aSwOLgQGrXSv89RwzTPs975w23wb3V8AK6AgJgUG6O8M3WIqMZb13u6x9IAYt9PbnszDQAyMsv3rrl+/Tbm8YONLVp5QkiqtqXSSKgQJtnPXiiOPa03Duk3/RPxvXo3unpbi/H4HIBpKY+8lDq5Gp1SS4nhGDkW5pXXlZ+v6/4cjw7eoh7ZGPGPmev7UAANBJZfOSY4dhpU79uqqH91AAIrBgoFNlQ/vdv1w/9dOy3n5f2bvNgzgIPSuYJXFX7hGkECKelmvb/avwnIaDZS++uXD8iOirCOTS6eha0bfse/YOps6b4l9ssTyIg4HoCG3vKGOxPv95T5edPVetodAAIgEKSgC9cZ4/8YQzwpUYP0vj4kc8UCwFGg9RngvbVTvTk4XJvX0UVOqfECSpKN+8YDvzKP8xt2rnniCFDBgX4+ziJSoAX0AOuxJ0d00NesYGLGESIiZa/1EQWd5M98KuxXiDZtZ3Sw63WFjoCgESsWbp2nf0rzqxSEFPe9QgLpUEsvxVbApWGbBEhDegu9/ZVVNQ5JWMsK5y/YDh8ijahrn1fH72gVw/l88LcHIBrBVCg1eny4po0UlS98uIxQtCupaJttDzxPpeVK3homGcCeDpDxpU+QHlvG352sVAnxd+xJiVzPl7kmMGaoCAaxKrTxiEamoXLz1+3Rkcryv1AICsnnDqj++OSt9p3xLApo9q2aW7PS9sH1wrg3LnzYQEZbl6+1YboYAAeI4CoJjKQyqggBFyhJAlA0IAoRJCASEAkQgQABoyf/JcwxkAwCCEAArLzxORHXKAP2amlhlYSIOCagk0F6NJa8eXmosnCk0gMAZASZWdZ564i23RdPOuzN0Ib2Jdl2QG4UAAShhPHfpjSX2bTACtUVAKcAevuCYh4xnr0NGn4ExlIIih8CffGFACABP7eZICvAgj0HNaXQMSNQhmM4cFDLjyMAQKz6ULxTc69Ex0UiFq0bPsCuA8uXQlfv5GITGdiotWOTDQlUNclPZtSBAMSB6IFCybMGzCvx7we8wYsGLDEYaU/oQkj0ZOXQCUxkDZWh4GSo/Yx8hPnTEBA8RUroUC6G9aM74yTo42bF468cz/ZbrLthwsFsHPb2nf68cjhaTIGZTBZpzXjHkHJ6xC0GlFKRCkRpUIyb0LTiPRpzbhHUEQNjtznQsD9uqguXGdZHiMJHm0zIAYZ0wXTYf61ooeLp48vKNI5WrStcJUKOv3Xean4SJeX3R3Jl/0UEpAKpK5PquuRWAQsYABABELUk5ZTZsxwRAwihNSjA/2p3/bru2goNlcULZhgEMfhpp6qx+nn5n3w/rotWxk7D8ezCy7pASYz+/13n703jEBE7fbAk1CaIR8DIoCQIUKGUElobJnTCyQJdJVOVrMVGIa/5rZnuy491ixZcak2Q8BJ0L+uRn1m95JFi0XRhb4Llwhg7bqNTQMvN4vS1MbtZeXww5Tyh4jiJ39lQaPLCeylmxU3ANsKAbeOlimb0VeLeIYAeLrHSxQu5RjTRebhg/scV8XJkc6C8wVwM+HOH7FfvT/aq5apBwgEx8+aOOvzDi+T8Knz5vB6tIOraAyIRGOHu/9SyIsSyBBmrdbzOaYNOq8bnSdMPXBm9549CoUdO17shZO1G88L8z7+aMqbFi8/dS0T9dFKQiYjUh/zjcNl1U5sSJSSxumMUoP6jONeNh53bavY3pw5mWwFhkgNaNHkreFzX3ujYV0n7L94LpwsgO/WbVZKp4e8FuKEFGwI6gdR8fesjSOrz+NBw6nz5uaNZUCB4+Y8DASNpoxQT5pPf7l686Ru3dQO+bYcgzNVUGLi3e2bFi/7wIcgnJGfWIRG9el7KXy1nEUgWvCVW9Y2zW1b69UADndorercnmUY1YvkPjhRABzHfTD7w/FvmMIjlM4JOZFwsB9VWCwadWLVZBKQmS3ojVLDunTtvfyIIKYMJTauXWRhn3d4slPhNAGs27BV1J2cOtrPafkfMcgUSMYQmbnVhPFS6OINtmFdmrLrgIzqwOOoaLdQ77iDh2JrXZYdcI4A0h9nbtrwxfIPfBi5UyM+aRToR95+yFWXUutmkjWyIeO0ViSgKcM1h/at0umMTirx+XAO7Zs2bW8Tkd22jUPnRNUADP4+1KMsoYqZKALM4vtpfPMIpjbz3XIxoyIObaRqFnz7h/0HHS/RTjhBAAaD8fixA+8Nd0Kuk4qQoG4AlZUnVMFiBDqDpNOL9QIdDfKl0Nk4S+rj8jkrBRj/pubIwfU6/QvqBE4QwKW4a+6y1JbRqipm67UMAZKgbgCVWyCKXKXlGIGS03kvT9JN5fiM69xVC1khS4qAw8LVDXzuvbCRwAkCiLt8pU0zzLhVTBEqSSDVcnaIsZuaMFskK1dpmUtCagbv40GSSodGHQLMBilPK1Z5psTw/qoD+7ZwvLOyCNZMSK3x8P7d1tGKinqAhKw84fdzplolpcUgYxBFIV1V+08zcoVAX8rBNyBQRq6AEMgVlToQj9vFqC1F1+PirjpUtJ2E2PtAcnLati1r9uzZnZVdUHJFq80NDa5kisFAkijxAV/LNEgMgxRylF8oVpyJSpCRK4SGOJqZl4KLNyz1AilUOZ8oBrkb1STU+s8/Fx2j2S7YIYBffz02f3a/ue/3ilQv1ZhmLprb+0jsCQCgCU5VeSaOwVNDaIsF1vw8a1rN9FEgl6EiXaUegKGgUKpfWfA2QoBLN9mXImXVhL+h0BA6J8clG4MrwFZbUHz8rW9WzPx5tWlXrDXI36NDZ6Zrm7yN+8csvD7WaLIwTCVBYpCrCQlDWqYQEV7N9t3nAgOQiKGQwVRJABLmBezrZdu2lgogIT9XSEkXWkbJqyYMY293Mq+49KeHyekn/zhm0Bc1a9bc28enbdt2NRzHay9s7QEHf9wJXIqFU3Zvr/ntHxPw2N1dMXeqW8fQbfmZVx9loyrM8QSE+NPXb7O1ykxMIJpGJkvFboQlIAlQKYiqNv4+DxQ6ecEcGkJ5eFd7qpOEcUBgoNHErlixctm8niHMAsj/oiBx7IHNb9++40xfsa0CkDFkjw7Kvb8Yol+S8zy+dYsFAoBDr3TzOLrJ//hZ08WL5ooZICRo1Ux25pKlVvFuCCgK8Xx5ASBgrZihkbLyEGoLBHz0tKlf1+pPBiaAF2V376VNHtdfwy7d8Bnfr6s3zcgH93ETufyjh75zoovMVgFEteikVMoEQbp62TJysOb432aDXgICwIrrhtALpnuduWj561z5zKsCjoqQZeYK6Y+42syFEAAn4tKE60Rp5nWDSSoZn+0WAIXuJHE5+UKXttVsi6SQ1YzjEnj94+0Lx92dOs5Poab3xxpaNpVfvGGNDCVJ0DrS7aqBrQLo2bPHzbTIfl3oo3+aCAK92lm1/xe9hABIAB57aMjZEz1vP7T+e8mMn/Iag5snEdmQOfKnCWqX40jiARuxVStxRZJgwpgHg1EiCahpb3t1oGDvL4aubRRuXlXpHwZl5QizPs/vECM7tMG/UUMViHD5igUDhIbQSalWgpI1bv4m6bwDH2wVgMZN2W/QnMMnraPeUG3eWlSPRSotHNyjt+ZJWALAWE7De8M9vDxIoaw5SIKhr6pjT5lYg+TwkoMgwZgs6C5z2uu89hpfcIUvjOMzL3EEriYpfU1lgTZXOH3RMuJ1tyrMGwxKuMUu+k47tJ966lgPEiEAyMjks/PF/l1Vv50zRdTHt7O7v9q3v4NvUjVFNmPQoNfypcF3bhqaudGxp009IxTWHCnxL7boOmfJkUACgoQm4QxddsgVcJuX5EoFOnba5HBeaFEEUgKJAwDAGCQeiywWzFhuL/cBgEH7fjFENqQbVXZz0ujcBfOPx43zpnp17aQCK5ZYrMsWch8LvToo//jX3DqK+uF3j4nTlsllznQj2iEAikTzPl266dcQT5nQrrGME3HvFoo6GpItwkUJfFGiIFoqRXhjIBg0caj7xv06zsEFARZFLKMRfvosAkBAEEDY26UIMBSJB04Y3xvuXjGXEQnxCez9FH7eNK96IbQ1Ryi6xefF8bobvF8R+u24sXkkveeopWv/ZVFNGznwDjUSZQ9Cgv1nLly3/AQoacxQSMJAkaUDozlL1F7nueJKqobD/XqoSBId/s1YbaKsGiACz2OVjCg77GGMaQphe6ciDDp43BgSQLWJUVT02YkQ7E+NH6ZRAiq6wWuv8+ZsSbJihkLJ2XxjP/r4X0XIe+KokW/bTf/zYLdifqV7554jly+PLQaQyi5HEAm8ERfe4Nnc8keSYKDkaM54j293FxuKqnEuVgcEIGLOit0UqJwAAOQUSIINx6c/BQGGImnXEcOsUR6VOyIC8KlDsrlS3mXOnCmWxIEBAglDWAD9T1zRv/e7Ll70uT2k206X/Zg6ZaIsauLGPwpkVLkVISJA4qEoUbBklmc0h3t2VUU0pNfsKLZ32JQEYFlwVxFlWyzGoJYTAo+rMFNXBwbtOKQLDabatqlq9onAmCoWJvACi1GZ1iNn0Lnbul03Gq5Zs1GlUlR8yhlwRAAIwdKly+KlHofOayuOhAiwCEV3BEtWGRkgEA3S7D7uPx0z3r5ttWs05gRstkheKqJsmiSMQSkjRB7MFtu6AIlys4R9RwzjW6vNyQIWyr83AcZUQZ8klGxhewoZja49NH11Wr1mw456dV0Vqu7g3NBNrVyzdtOBpLBzt3VyuqIMQIKiO4IlWwQSAIHpsZgfxwViYlR79fxVWoG3udki4DiMOayUExUaLUkBKYLRbNvsloLVO4o71pM1qUMX3RG08bz41LZBgCld1CeLpZQ/AUOh+5mWOYeEz7/e1rZ1TJWlOgWO+wPqhQR9+d3OL/5UJ6abZFSlfiBB8V1Bf1cousXr7goSB5yI3+mkYgywab/O1tEYgZnFFEZMpSQmNIlogPxCqfqzyp7eim7cZC9ftEx6RcNLGJFg1UpFiQIWAEgwZ4m6JAHKZxiUUSg1l5222zTjsw2v9+9jE6mOolYOmTatWnz65Y6Pf5LS8tgKPEIIsACGR6I5WwIE6Im5ev4gj5+PGOPjWZsGA4TyCkVPBSGjSo8bKf0DIAkI8aAepHHPeQMEPI9XbCgc10nt5UaU2HAQCdZCyZAmsLli8d1K3KdRcg47abt+7Effjhk53F6e2IvaesT6v/rKpE82fLDPnF1ordhOESACCBIMLL5w30qRIEoQ6EnO7KlZvKawuEh8voEIQbFe9NMgBQ0ISViSJFGSJAlAQoB93YjC4uoztZZAhnYe0nkLRO8WSmuZqSciwPhILLolgFiO+3IaJT4yT9xuHPvRd1Mnj7eXGw7ACYu6USPeNhiNM9a/v3Yk+HvKuPJzDATAC/hqsvXlcBkCsAr45QjZY63w+erCbxb41JSPAQAQWK347B0+V282WsEqIEEEggCKwAqGSM2xTJlQvUUTAGiUlGQ9ftz0xWBP4ckYjhCIEpS44rH0jPsIQM6gM7cMC2KlDxdtHjvqnVoxxWY4Z1U9bcp4CUvTN8xa8y4EeVeSAQKWx9KTYc8q4Lc6qLacNqzdXjxzomdNcYwUCDzuPHT+yx07MwwlY5gSjc9xXEpqRs6u91/pVH1WHwKsrPT198Vj2ql9NGQJSSSB/rxlbhbC+LmTUhnNQxJAEmj7ae3Wy55frd86oF9vJzDFNjjNrDHjvYkympm6esYXb4pN6ypZrnTlRBAoXy9KIicjJQkQYJCwpDeLHRvBgkOFXp5o5FCPZ0cLkFBy3gAWRSQj4m9Yj52VBo1t37PbyxXrkyQFacorkLtrqKrzfVNo2eocuV7oEe1htmIEQBCQVSQkZvDdmirKRhDIKFRkEpb9lHdXaP3jkS3RUU2dxRNb4ORUBUd+ObFywZQxrbSvt/EkSUKSgKHw6hOGeGPThupcyaqTMDKJKkkRoPENDWvW4daVPWvnZDIyEhAJJEpPNXp7MbyAlm5mvJS5VuXw14e8F9E4VKlUVqhIkvC16wl7ty+e9vo/YQ2VWEAETQOJQSg5FQAdP2nYdao9YovqwbUBLchQP4VSThy5YiEIYkDL0vGAIhFJ4L9vG5cdtbzUc8zKr1Z4erg7kRu2wPm5Im7fTVry+Xz8+Pc+TSU/d+riA85Yd8SiFd8WFhaZzWaEkFyh8Pby1KgVADB1Yv+Y+pcf5fm3a6pVK6wHz7VnIJmzaAeP/0Wv07ZoHlWvXkgNdSXdT9m94V2lXATJMOq1gqs3ccdWKm9PUhCE+d+hyR9f8vPzPPHbyfN/Hsbam26E/vwd3biO+PXWbpyAMUByNrvxZHG8PmzugqVvDRnoXD7YCJck65AwnPrz7N9//SFYjZFRrYYNGyaXVZ1l4crlOF6AkHphe3d+nZWVsXj5pvtJSVlZGQPfGGBjXYVFRlHEDx/cvnphP6bDsu59L/DmvEKCFT027/rb40kqt4Iig8XC3r1zd9Unb/WP1BGIuPSQv6ML6Pn66FnvT/XzreOcN7cfLs+WYjskXH36bJsRH5+IAblpNNqCvArHZpbgUtzVX36JFQQhIjKqd+8eQQH+ta2ydvg/WQiBu9wNPSUAAAAASUVORK5CYII=\n"
                },
                "metadata": {}
              }
            ]
          }
        },
        "0ee87faed5ba4e4cbee481e98ecb59c1": {
          "model_module": "@jupyter-widgets/controls",
          "model_name": "LabelModel",
          "model_module_version": "1.5.0",
          "state": {
            "_dom_classes": [],
            "_model_module": "@jupyter-widgets/controls",
            "_model_module_version": "1.5.0",
            "_model_name": "LabelModel",
            "_view_count": null,
            "_view_module": "@jupyter-widgets/controls",
            "_view_module_version": "1.5.0",
            "_view_name": "LabelView",
            "description": "",
            "description_tooltip": null,
            "layout": "IPY_MODEL_2b783c5dc4f947828851c42d9fa42489",
            "placeholder": "​",
            "style": "IPY_MODEL_5c6c13ba456849a88c1c2f88ba0d4f8c",
            "value": "Prediction: pikachu; Probability: 0.9955"
          }
        },
        "0156358b6c744f68925113af78f0c46c": {
          "model_module": "@jupyter-widgets/base",
          "model_name": "LayoutModel",
          "model_module_version": "1.2.0",
          "state": {
            "_model_module": "@jupyter-widgets/base",
            "_model_module_version": "1.2.0",
            "_model_name": "LayoutModel",
            "_view_count": null,
            "_view_module": "@jupyter-widgets/base",
            "_view_module_version": "1.2.0",
            "_view_name": "LayoutView",
            "align_content": null,
            "align_items": null,
            "align_self": null,
            "border": null,
            "bottom": null,
            "display": null,
            "flex": null,
            "flex_flow": null,
            "grid_area": null,
            "grid_auto_columns": null,
            "grid_auto_flow": null,
            "grid_auto_rows": null,
            "grid_column": null,
            "grid_gap": null,
            "grid_row": null,
            "grid_template_areas": null,
            "grid_template_columns": null,
            "grid_template_rows": null,
            "height": null,
            "justify_content": null,
            "justify_items": null,
            "left": null,
            "margin": null,
            "max_height": null,
            "max_width": null,
            "min_height": null,
            "min_width": null,
            "object_fit": null,
            "object_position": null,
            "order": null,
            "overflow": null,
            "overflow_x": null,
            "overflow_y": null,
            "padding": null,
            "right": null,
            "top": null,
            "visibility": null,
            "width": null
          }
        },
        "d5e112ad04234c7eace362e88f307b65": {
          "model_module": "@jupyter-widgets/base",
          "model_name": "LayoutModel",
          "model_module_version": "1.2.0",
          "state": {
            "_model_module": "@jupyter-widgets/base",
            "_model_module_version": "1.2.0",
            "_model_name": "LayoutModel",
            "_view_count": null,
            "_view_module": "@jupyter-widgets/base",
            "_view_module_version": "1.2.0",
            "_view_name": "LayoutView",
            "align_content": null,
            "align_items": null,
            "align_self": null,
            "border": null,
            "bottom": null,
            "display": null,
            "flex": null,
            "flex_flow": null,
            "grid_area": null,
            "grid_auto_columns": null,
            "grid_auto_flow": null,
            "grid_auto_rows": null,
            "grid_column": null,
            "grid_gap": null,
            "grid_row": null,
            "grid_template_areas": null,
            "grid_template_columns": null,
            "grid_template_rows": null,
            "height": null,
            "justify_content": null,
            "justify_items": null,
            "left": null,
            "margin": null,
            "max_height": null,
            "max_width": null,
            "min_height": null,
            "min_width": null,
            "object_fit": null,
            "object_position": null,
            "order": null,
            "overflow": null,
            "overflow_x": null,
            "overflow_y": null,
            "padding": null,
            "right": null,
            "top": null,
            "visibility": null,
            "width": null
          }
        },
        "7ca780f82ad1476d83a1ba7f949b278c": {
          "model_module": "@jupyter-widgets/controls",
          "model_name": "DescriptionStyleModel",
          "model_module_version": "1.5.0",
          "state": {
            "_model_module": "@jupyter-widgets/controls",
            "_model_module_version": "1.5.0",
            "_model_name": "DescriptionStyleModel",
            "_view_count": null,
            "_view_module": "@jupyter-widgets/base",
            "_view_module_version": "1.2.0",
            "_view_name": "StyleView",
            "description_width": ""
          }
        },
        "c893b096d5d4453d9056aca0271d03b2": {
          "model_module": "@jupyter-widgets/base",
          "model_name": "LayoutModel",
          "model_module_version": "1.2.0",
          "state": {
            "_model_module": "@jupyter-widgets/base",
            "_model_module_version": "1.2.0",
            "_model_name": "LayoutModel",
            "_view_count": null,
            "_view_module": "@jupyter-widgets/base",
            "_view_module_version": "1.2.0",
            "_view_name": "LayoutView",
            "align_content": null,
            "align_items": null,
            "align_self": null,
            "border": null,
            "bottom": null,
            "display": null,
            "flex": null,
            "flex_flow": null,
            "grid_area": null,
            "grid_auto_columns": null,
            "grid_auto_flow": null,
            "grid_auto_rows": null,
            "grid_column": null,
            "grid_gap": null,
            "grid_row": null,
            "grid_template_areas": null,
            "grid_template_columns": null,
            "grid_template_rows": null,
            "height": null,
            "justify_content": null,
            "justify_items": null,
            "left": null,
            "margin": null,
            "max_height": null,
            "max_width": null,
            "min_height": null,
            "min_width": null,
            "object_fit": null,
            "object_position": null,
            "order": null,
            "overflow": null,
            "overflow_x": null,
            "overflow_y": null,
            "padding": null,
            "right": null,
            "top": null,
            "visibility": null,
            "width": null
          }
        },
        "75bdbad63dad4c7192b7ac18d3ca1136": {
          "model_module": "@jupyter-widgets/controls",
          "model_name": "ButtonStyleModel",
          "model_module_version": "1.5.0",
          "state": {
            "_model_module": "@jupyter-widgets/controls",
            "_model_module_version": "1.5.0",
            "_model_name": "ButtonStyleModel",
            "_view_count": null,
            "_view_module": "@jupyter-widgets/base",
            "_view_module_version": "1.2.0",
            "_view_name": "StyleView",
            "button_color": null,
            "font_weight": ""
          }
        },
        "2b783c5dc4f947828851c42d9fa42489": {
          "model_module": "@jupyter-widgets/base",
          "model_name": "LayoutModel",
          "model_module_version": "1.2.0",
          "state": {
            "_model_module": "@jupyter-widgets/base",
            "_model_module_version": "1.2.0",
            "_model_name": "LayoutModel",
            "_view_count": null,
            "_view_module": "@jupyter-widgets/base",
            "_view_module_version": "1.2.0",
            "_view_name": "LayoutView",
            "align_content": null,
            "align_items": null,
            "align_self": null,
            "border": null,
            "bottom": null,
            "display": null,
            "flex": null,
            "flex_flow": null,
            "grid_area": null,
            "grid_auto_columns": null,
            "grid_auto_flow": null,
            "grid_auto_rows": null,
            "grid_column": null,
            "grid_gap": null,
            "grid_row": null,
            "grid_template_areas": null,
            "grid_template_columns": null,
            "grid_template_rows": null,
            "height": null,
            "justify_content": null,
            "justify_items": null,
            "left": null,
            "margin": null,
            "max_height": null,
            "max_width": null,
            "min_height": null,
            "min_width": null,
            "object_fit": null,
            "object_position": null,
            "order": null,
            "overflow": null,
            "overflow_x": null,
            "overflow_y": null,
            "padding": null,
            "right": null,
            "top": null,
            "visibility": null,
            "width": null
          }
        },
        "5c6c13ba456849a88c1c2f88ba0d4f8c": {
          "model_module": "@jupyter-widgets/controls",
          "model_name": "DescriptionStyleModel",
          "model_module_version": "1.5.0",
          "state": {
            "_model_module": "@jupyter-widgets/controls",
            "_model_module_version": "1.5.0",
            "_model_name": "DescriptionStyleModel",
            "_view_count": null,
            "_view_module": "@jupyter-widgets/base",
            "_view_module_version": "1.2.0",
            "_view_name": "StyleView",
            "description_width": ""
          }
        },
        "2dd7c8c0b9194acaaf037d14e42c6fb6": {
          "model_module": "@jupyter-widgets/base",
          "model_name": "LayoutModel",
          "model_module_version": "1.2.0",
          "state": {
            "_model_module": "@jupyter-widgets/base",
            "_model_module_version": "1.2.0",
            "_model_name": "LayoutModel",
            "_view_count": null,
            "_view_module": "@jupyter-widgets/base",
            "_view_module_version": "1.2.0",
            "_view_name": "LayoutView",
            "align_content": null,
            "align_items": null,
            "align_self": null,
            "border": null,
            "bottom": null,
            "display": null,
            "flex": null,
            "flex_flow": null,
            "grid_area": null,
            "grid_auto_columns": null,
            "grid_auto_flow": null,
            "grid_auto_rows": null,
            "grid_column": null,
            "grid_gap": null,
            "grid_row": null,
            "grid_template_areas": null,
            "grid_template_columns": null,
            "grid_template_rows": null,
            "height": null,
            "justify_content": null,
            "justify_items": null,
            "left": null,
            "margin": null,
            "max_height": null,
            "max_width": null,
            "min_height": null,
            "min_width": null,
            "object_fit": null,
            "object_position": null,
            "order": null,
            "overflow": null,
            "overflow_x": null,
            "overflow_y": null,
            "padding": null,
            "right": null,
            "top": null,
            "visibility": null,
            "width": null
          }
        }
      }
    }
  },
  "cells": [
    {
      "cell_type": "code",
      "source": [
        "from fastai.vision.all import *\n",
        "from fastai.vision.widgets import *"
      ],
      "metadata": {
        "id": "R5y1Sk-a78OL"
      },
      "execution_count": 2,
      "outputs": []
    },
    {
      "cell_type": "code",
      "execution_count": null,
      "metadata": {
        "id": "lVY35O5_6sLp"
      },
      "outputs": [],
      "source": [
        "!pip install voila\n",
        "!jupyter serverextension enable --sys-prefix voila "
      ]
    },
    {
      "cell_type": "code",
      "source": [
        "path = Path()\n",
        "learn_inf = load_learner(path/'export.pkl', cpu=True)\n",
        "btn_upload = widgets.FileUpload()\n",
        "out_pl = widgets.Output()\n",
        "lbl_pred = widgets.Label()"
      ],
      "metadata": {
        "id": "C-jNgiSX8mLK"
      },
      "execution_count": 7,
      "outputs": []
    },
    {
      "cell_type": "code",
      "source": [
        "def on_data_change(change):\n",
        "    lbl_pred.value = ''\n",
        "    img = PILImage.create(btn_upload.data[-1])\n",
        "    out_pl.clear_output()\n",
        "    with out_pl: display(img.to_thumb(128,128))\n",
        "    pred,pred_idx,probs = learn_inf.predict(img)\n",
        "    lbl_pred.value = f'Prediction: {pred}; Probability: {probs[pred_idx]:.04f}'"
      ],
      "metadata": {
        "id": "U1RhUwoT_F6x"
      },
      "execution_count": 8,
      "outputs": []
    },
    {
      "cell_type": "code",
      "source": [
        "btn_upload.observe(on_data_change, names=['data'])"
      ],
      "metadata": {
        "id": "Awe_3ysC_J1D"
      },
      "execution_count": 9,
      "outputs": []
    },
    {
      "cell_type": "code",
      "source": [
        "display(VBox([widgets.Label('Select your pikachu evolution!'), btn_upload, out_pl, lbl_pred]))"
      ],
      "metadata": {
        "colab": {
          "base_uri": "https://localhost:8080/",
          "height": 239,
          "referenced_widgets": [
            "6e33ae1694cf4e20829d1b2a40a1f236",
            "0b1a24b8847d47a0b7a5d4160e54067f",
            "254a19abd3ab4e78bcd56725e2f0c8fb",
            "ffa2182da84d4e25adb7be3ef7bc255e",
            "0ee87faed5ba4e4cbee481e98ecb59c1",
            "0156358b6c744f68925113af78f0c46c",
            "d5e112ad04234c7eace362e88f307b65",
            "7ca780f82ad1476d83a1ba7f949b278c",
            "c893b096d5d4453d9056aca0271d03b2",
            "75bdbad63dad4c7192b7ac18d3ca1136",
            "2b783c5dc4f947828851c42d9fa42489",
            "5c6c13ba456849a88c1c2f88ba0d4f8c",
            "2dd7c8c0b9194acaaf037d14e42c6fb6"
          ]
        },
        "id": "bQZNU07A_OHT",
        "outputId": "3f69cac3-3b87-4097-c0c1-3d80cdaa8507"
      },
      "execution_count": 11,
      "outputs": [
        {
          "output_type": "display_data",
          "data": {
            "text/plain": [
              "VBox(children=(Label(value='Select your pikachu evolution!'), FileUpload(value={}, description='Upload'), Outp…"
            ],
            "application/vnd.jupyter.widget-view+json": {
              "version_major": 2,
              "version_minor": 0,
              "model_id": "6e33ae1694cf4e20829d1b2a40a1f236"
            }
          },
          "metadata": {}
        },
        {
          "output_type": "display_data",
          "data": {
            "text/plain": [
              "<IPython.core.display.HTML object>"
            ],
            "text/html": [
              "\n",
              "<style>\n",
              "    /* Turns off some styling */\n",
              "    progress {\n",
              "        /* gets rid of default border in Firefox and Opera. */\n",
              "        border: none;\n",
              "        /* Needs to be in here for Safari polyfill so background images work as expected. */\n",
              "        background-size: auto;\n",
              "    }\n",
              "    progress:not([value]), progress:not([value])::-webkit-progress-bar {\n",
              "        background: repeating-linear-gradient(45deg, #7e7e7e, #7e7e7e 10px, #5c5c5c 10px, #5c5c5c 20px);\n",
              "    }\n",
              "    .progress-bar-interrupted, .progress-bar-interrupted::-webkit-progress-bar {\n",
              "        background: #F44336;\n",
              "    }\n",
              "</style>\n"
            ]
          },
          "metadata": {}
        },
        {
          "output_type": "display_data",
          "data": {
            "text/plain": [
              "<IPython.core.display.HTML object>"
            ],
            "text/html": []
          },
          "metadata": {}
        }
      ]
    }
  ]
}