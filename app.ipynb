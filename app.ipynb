{
  "nbformat": 4,
  "nbformat_minor": 0,
  "metadata": {
    "colab": {
      "provenance": [],
      "authorship_tag": "ABX9TyM2JKTGpk49g67Ru4YPt8M2",
      "include_colab_link": true
    },
    "kernelspec": {
      "name": "python3",
      "display_name": "Python 3"
    },
    "language_info": {
      "name": "python"
    },
    "widgets": {
      "application/vnd.jupyter.widget-state+json": {
        "062d6ea1302149d8afeee78f22dcd280": {
          "model_module": "@jupyter-widgets/controls",
          "model_name": "VBoxModel",
          "model_module_version": "1.5.0",
          "state": {
            "_dom_classes": [],
            "_model_module": "@jupyter-widgets/controls",
            "_model_module_version": "1.5.0",
            "_model_name": "VBoxModel",
            "_view_count": null,
            "_view_module": "@jupyter-widgets/controls",
            "_view_module_version": "1.5.0",
            "_view_name": "VBoxView",
            "box_style": "",
            "children": [
              "IPY_MODEL_bbc86946e0d943cf8c42088a3c90a483",
              "IPY_MODEL_8818077863da4b56a732d0ba3c9d4d7f",
              "IPY_MODEL_46d14e8a32ab45df96f3f8de487f5cb2",
              "IPY_MODEL_3fe44e8cc14446188f3d1f959e000f9d",
              "IPY_MODEL_f6bcf1512f4e4983987dc336f0446a12"
            ],
            "layout": "IPY_MODEL_d86a0a2535d04fcba2bd80a7a33c5af9"
          }
        },
        "bbc86946e0d943cf8c42088a3c90a483": {
          "model_module": "@jupyter-widgets/controls",
          "model_name": "LabelModel",
          "model_module_version": "1.5.0",
          "state": {
            "_dom_classes": [],
            "_model_module": "@jupyter-widgets/controls",
            "_model_module_version": "1.5.0",
            "_model_name": "LabelModel",
            "_view_count": null,
            "_view_module": "@jupyter-widgets/controls",
            "_view_module_version": "1.5.0",
            "_view_name": "LabelView",
            "description": "",
            "description_tooltip": null,
            "layout": "IPY_MODEL_03d47223c48e4949a84f85ea8c543007",
            "placeholder": "​",
            "style": "IPY_MODEL_e112c4961e6e4270bd76c4fc469b3d47",
            "value": "Select your PikaEvolution!"
          }
        },
        "8818077863da4b56a732d0ba3c9d4d7f": {
          "model_module": "@jupyter-widgets/controls",
          "model_name": "FileUploadModel",
          "model_module_version": "1.5.0",
          "state": {
            "_counter": 4,
            "_dom_classes": [],
            "_model_module": "@jupyter-widgets/controls",
            "_model_module_version": "1.5.0",
            "_model_name": "FileUploadModel",
            "_view_count": null,
            "_view_module": "@jupyter-widgets/controls",
            "_view_module_version": "1.5.0",
            "_view_name": "FileUploadView",
            "accept": "",
            "button_style": "",
            "data": [
              null
            ],
            "description": "Upload",
            "description_tooltip": null,
            "disabled": false,
            "error": "",
            "icon": "upload",
            "layout": "IPY_MODEL_076bea80b96b4e288d98099007331950",
            "metadata": [
              {
                "name": "garfield.jpg",
                "type": "image/jpeg",
                "size": 37572,
                "lastModified": 1671220910589
              }
            ],
            "multiple": false,
            "style": "IPY_MODEL_b240ef0bcde7498988db98ed590e6c06"
          }
        },
        "46d14e8a32ab45df96f3f8de487f5cb2": {
          "model_module": "@jupyter-widgets/controls",
          "model_name": "ButtonModel",
          "model_module_version": "1.5.0",
          "state": {
            "_dom_classes": [],
            "_model_module": "@jupyter-widgets/controls",
            "_model_module_version": "1.5.0",
            "_model_name": "ButtonModel",
            "_view_count": null,
            "_view_module": "@jupyter-widgets/controls",
            "_view_module_version": "1.5.0",
            "_view_name": "ButtonView",
            "button_style": "",
            "description": "Classify",
            "disabled": false,
            "icon": "",
            "layout": "IPY_MODEL_a3273ce50e8d496ea0b88db6e7880135",
            "style": "IPY_MODEL_e99e874d1fa04c838382dec9428b05f1",
            "tooltip": ""
          }
        },
        "3fe44e8cc14446188f3d1f959e000f9d": {
          "model_module": "@jupyter-widgets/output",
          "model_name": "OutputModel",
          "model_module_version": "1.0.0",
          "state": {
            "_dom_classes": [],
            "_model_module": "@jupyter-widgets/output",
            "_model_module_version": "1.0.0",
            "_model_name": "OutputModel",
            "_view_count": null,
            "_view_module": "@jupyter-widgets/output",
            "_view_module_version": "1.0.0",
            "_view_name": "OutputView",
            "layout": "IPY_MODEL_095b3a7b798c4a8785b42ba417aa911e",
            "msg_id": "",
            "outputs": [
              {
                "output_type": "display_data",
                "data": {
                  "text/plain": "<PIL.Image.Image image mode=RGB size=128x85>",
                  "image/png": "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\n"
                },
                "metadata": {}
              }
            ]
          }
        },
        "f6bcf1512f4e4983987dc336f0446a12": {
          "model_module": "@jupyter-widgets/controls",
          "model_name": "LabelModel",
          "model_module_version": "1.5.0",
          "state": {
            "_dom_classes": [],
            "_model_module": "@jupyter-widgets/controls",
            "_model_module_version": "1.5.0",
            "_model_name": "LabelModel",
            "_view_count": null,
            "_view_module": "@jupyter-widgets/controls",
            "_view_module_version": "1.5.0",
            "_view_name": "LabelView",
            "description": "",
            "description_tooltip": null,
            "layout": "IPY_MODEL_d3eb53ffdfde4a7abb7a01b1a5d08b7a",
            "placeholder": "​",
            "style": "IPY_MODEL_89bb05cc25fd4961b05c58e9e5d8dd22",
            "value": "Prediction: pichu; Probability: 0.5679"
          }
        },
        "d86a0a2535d04fcba2bd80a7a33c5af9": {
          "model_module": "@jupyter-widgets/base",
          "model_name": "LayoutModel",
          "model_module_version": "1.2.0",
          "state": {
            "_model_module": "@jupyter-widgets/base",
            "_model_module_version": "1.2.0",
            "_model_name": "LayoutModel",
            "_view_count": null,
            "_view_module": "@jupyter-widgets/base",
            "_view_module_version": "1.2.0",
            "_view_name": "LayoutView",
            "align_content": null,
            "align_items": null,
            "align_self": null,
            "border": null,
            "bottom": null,
            "display": null,
            "flex": null,
            "flex_flow": null,
            "grid_area": null,
            "grid_auto_columns": null,
            "grid_auto_flow": null,
            "grid_auto_rows": null,
            "grid_column": null,
            "grid_gap": null,
            "grid_row": null,
            "grid_template_areas": null,
            "grid_template_columns": null,
            "grid_template_rows": null,
            "height": null,
            "justify_content": null,
            "justify_items": null,
            "left": null,
            "margin": null,
            "max_height": null,
            "max_width": null,
            "min_height": null,
            "min_width": null,
            "object_fit": null,
            "object_position": null,
            "order": null,
            "overflow": null,
            "overflow_x": null,
            "overflow_y": null,
            "padding": null,
            "right": null,
            "top": null,
            "visibility": null,
            "width": null
          }
        },
        "03d47223c48e4949a84f85ea8c543007": {
          "model_module": "@jupyter-widgets/base",
          "model_name": "LayoutModel",
          "model_module_version": "1.2.0",
          "state": {
            "_model_module": "@jupyter-widgets/base",
            "_model_module_version": "1.2.0",
            "_model_name": "LayoutModel",
            "_view_count": null,
            "_view_module": "@jupyter-widgets/base",
            "_view_module_version": "1.2.0",
            "_view_name": "LayoutView",
            "align_content": null,
            "align_items": null,
            "align_self": null,
            "border": null,
            "bottom": null,
            "display": null,
            "flex": null,
            "flex_flow": null,
            "grid_area": null,
            "grid_auto_columns": null,
            "grid_auto_flow": null,
            "grid_auto_rows": null,
            "grid_column": null,
            "grid_gap": null,
            "grid_row": null,
            "grid_template_areas": null,
            "grid_template_columns": null,
            "grid_template_rows": null,
            "height": null,
            "justify_content": null,
            "justify_items": null,
            "left": null,
            "margin": null,
            "max_height": null,
            "max_width": null,
            "min_height": null,
            "min_width": null,
            "object_fit": null,
            "object_position": null,
            "order": null,
            "overflow": null,
            "overflow_x": null,
            "overflow_y": null,
            "padding": null,
            "right": null,
            "top": null,
            "visibility": null,
            "width": null
          }
        },
        "e112c4961e6e4270bd76c4fc469b3d47": {
          "model_module": "@jupyter-widgets/controls",
          "model_name": "DescriptionStyleModel",
          "model_module_version": "1.5.0",
          "state": {
            "_model_module": "@jupyter-widgets/controls",
            "_model_module_version": "1.5.0",
            "_model_name": "DescriptionStyleModel",
            "_view_count": null,
            "_view_module": "@jupyter-widgets/base",
            "_view_module_version": "1.2.0",
            "_view_name": "StyleView",
            "description_width": ""
          }
        },
        "076bea80b96b4e288d98099007331950": {
          "model_module": "@jupyter-widgets/base",
          "model_name": "LayoutModel",
          "model_module_version": "1.2.0",
          "state": {
            "_model_module": "@jupyter-widgets/base",
            "_model_module_version": "1.2.0",
            "_model_name": "LayoutModel",
            "_view_count": null,
            "_view_module": "@jupyter-widgets/base",
            "_view_module_version": "1.2.0",
            "_view_name": "LayoutView",
            "align_content": null,
            "align_items": null,
            "align_self": null,
            "border": null,
            "bottom": null,
            "display": null,
            "flex": null,
            "flex_flow": null,
            "grid_area": null,
            "grid_auto_columns": null,
            "grid_auto_flow": null,
            "grid_auto_rows": null,
            "grid_column": null,
            "grid_gap": null,
            "grid_row": null,
            "grid_template_areas": null,
            "grid_template_columns": null,
            "grid_template_rows": null,
            "height": null,
            "justify_content": null,
            "justify_items": null,
            "left": null,
            "margin": null,
            "max_height": null,
            "max_width": null,
            "min_height": null,
            "min_width": null,
            "object_fit": null,
            "object_position": null,
            "order": null,
            "overflow": null,
            "overflow_x": null,
            "overflow_y": null,
            "padding": null,
            "right": null,
            "top": null,
            "visibility": null,
            "width": null
          }
        },
        "b240ef0bcde7498988db98ed590e6c06": {
          "model_module": "@jupyter-widgets/controls",
          "model_name": "ButtonStyleModel",
          "model_module_version": "1.5.0",
          "state": {
            "_model_module": "@jupyter-widgets/controls",
            "_model_module_version": "1.5.0",
            "_model_name": "ButtonStyleModel",
            "_view_count": null,
            "_view_module": "@jupyter-widgets/base",
            "_view_module_version": "1.2.0",
            "_view_name": "StyleView",
            "button_color": null,
            "font_weight": ""
          }
        },
        "a3273ce50e8d496ea0b88db6e7880135": {
          "model_module": "@jupyter-widgets/base",
          "model_name": "LayoutModel",
          "model_module_version": "1.2.0",
          "state": {
            "_model_module": "@jupyter-widgets/base",
            "_model_module_version": "1.2.0",
            "_model_name": "LayoutModel",
            "_view_count": null,
            "_view_module": "@jupyter-widgets/base",
            "_view_module_version": "1.2.0",
            "_view_name": "LayoutView",
            "align_content": null,
            "align_items": null,
            "align_self": null,
            "border": null,
            "bottom": null,
            "display": null,
            "flex": null,
            "flex_flow": null,
            "grid_area": null,
            "grid_auto_columns": null,
            "grid_auto_flow": null,
            "grid_auto_rows": null,
            "grid_column": null,
            "grid_gap": null,
            "grid_row": null,
            "grid_template_areas": null,
            "grid_template_columns": null,
            "grid_template_rows": null,
            "height": null,
            "justify_content": null,
            "justify_items": null,
            "left": null,
            "margin": null,
            "max_height": null,
            "max_width": null,
            "min_height": null,
            "min_width": null,
            "object_fit": null,
            "object_position": null,
            "order": null,
            "overflow": null,
            "overflow_x": null,
            "overflow_y": null,
            "padding": null,
            "right": null,
            "top": null,
            "visibility": null,
            "width": null
          }
        },
        "e99e874d1fa04c838382dec9428b05f1": {
          "model_module": "@jupyter-widgets/controls",
          "model_name": "ButtonStyleModel",
          "model_module_version": "1.5.0",
          "state": {
            "_model_module": "@jupyter-widgets/controls",
            "_model_module_version": "1.5.0",
            "_model_name": "ButtonStyleModel",
            "_view_count": null,
            "_view_module": "@jupyter-widgets/base",
            "_view_module_version": "1.2.0",
            "_view_name": "StyleView",
            "button_color": null,
            "font_weight": ""
          }
        },
        "d3eb53ffdfde4a7abb7a01b1a5d08b7a": {
          "model_module": "@jupyter-widgets/base",
          "model_name": "LayoutModel",
          "model_module_version": "1.2.0",
          "state": {
            "_model_module": "@jupyter-widgets/base",
            "_model_module_version": "1.2.0",
            "_model_name": "LayoutModel",
            "_view_count": null,
            "_view_module": "@jupyter-widgets/base",
            "_view_module_version": "1.2.0",
            "_view_name": "LayoutView",
            "align_content": null,
            "align_items": null,
            "align_self": null,
            "border": null,
            "bottom": null,
            "display": null,
            "flex": null,
            "flex_flow": null,
            "grid_area": null,
            "grid_auto_columns": null,
            "grid_auto_flow": null,
            "grid_auto_rows": null,
            "grid_column": null,
            "grid_gap": null,
            "grid_row": null,
            "grid_template_areas": null,
            "grid_template_columns": null,
            "grid_template_rows": null,
            "height": null,
            "justify_content": null,
            "justify_items": null,
            "left": null,
            "margin": null,
            "max_height": null,
            "max_width": null,
            "min_height": null,
            "min_width": null,
            "object_fit": null,
            "object_position": null,
            "order": null,
            "overflow": null,
            "overflow_x": null,
            "overflow_y": null,
            "padding": null,
            "right": null,
            "top": null,
            "visibility": null,
            "width": null
          }
        },
        "89bb05cc25fd4961b05c58e9e5d8dd22": {
          "model_module": "@jupyter-widgets/controls",
          "model_name": "DescriptionStyleModel",
          "model_module_version": "1.5.0",
          "state": {
            "_model_module": "@jupyter-widgets/controls",
            "_model_module_version": "1.5.0",
            "_model_name": "DescriptionStyleModel",
            "_view_count": null,
            "_view_module": "@jupyter-widgets/base",
            "_view_module_version": "1.2.0",
            "_view_name": "StyleView",
            "description_width": ""
          }
        },
        "095b3a7b798c4a8785b42ba417aa911e": {
          "model_module": "@jupyter-widgets/base",
          "model_name": "LayoutModel",
          "model_module_version": "1.2.0",
          "state": {
            "_model_module": "@jupyter-widgets/base",
            "_model_module_version": "1.2.0",
            "_model_name": "LayoutModel",
            "_view_count": null,
            "_view_module": "@jupyter-widgets/base",
            "_view_module_version": "1.2.0",
            "_view_name": "LayoutView",
            "align_content": null,
            "align_items": null,
            "align_self": null,
            "border": null,
            "bottom": null,
            "display": null,
            "flex": null,
            "flex_flow": null,
            "grid_area": null,
            "grid_auto_columns": null,
            "grid_auto_flow": null,
            "grid_auto_rows": null,
            "grid_column": null,
            "grid_gap": null,
            "grid_row": null,
            "grid_template_areas": null,
            "grid_template_columns": null,
            "grid_template_rows": null,
            "height": null,
            "justify_content": null,
            "justify_items": null,
            "left": null,
            "margin": null,
            "max_height": null,
            "max_width": null,
            "min_height": null,
            "min_width": null,
            "object_fit": null,
            "object_position": null,
            "order": null,
            "overflow": null,
            "overflow_x": null,
            "overflow_y": null,
            "padding": null,
            "right": null,
            "top": null,
            "visibility": null,
            "width": null
          }
        }
      }
    }
  },
  "cells": [
    {
      "cell_type": "markdown",
      "metadata": {
        "id": "view-in-github",
        "colab_type": "text"
      },
      "source": [
        "<a href=\"https://colab.research.google.com/github/otavio-hbf/pikachu-classifier/blob/main/app.ipynb\" target=\"_parent\"><img src=\"https://colab.research.google.com/assets/colab-badge.svg\" alt=\"Open In Colab\"/></a>"
      ]
    },
    {
      "cell_type": "code",
      "source": [
        "from fastai.vision.all import *\n",
        "from fastai.vision.widgets import *"
      ],
      "metadata": {
        "id": "R5y1Sk-a78OL"
      },
      "execution_count": 2,
      "outputs": []
    },
    {
      "cell_type": "code",
      "execution_count": null,
      "metadata": {
        "id": "lVY35O5_6sLp"
      },
      "outputs": [],
      "source": [
        "!pip install voila\n",
        "!jupyter serverextension enable --sys-prefix voila "
      ]
    },
    {
      "cell_type": "code",
      "source": [
        "path = Path()\n",
        "learn_inf = load_learner(path/'export.pkl')\n",
        "btn_upload = widgets.FileUpload()\n",
        "out_pl = widgets.Output()\n",
        "lbl_pred = widgets.Label()\n",
        "btn_run = widgets.Button(description='Classify')"
      ],
      "metadata": {
        "id": "C-jNgiSX8mLK"
      },
      "execution_count": 46,
      "outputs": []
    },
    {
      "cell_type": "code",
      "source": [
        "def on_data_change(change):\n",
        "    lbl_pred.value = ''\n",
        "    img = PILImage.create(btn_upload.data[-1])\n",
        "    out_pl.clear_output()\n",
        "    with out_pl: display(img.to_thumb(128,128))\n",
        "    # pred,pred_idx,probs = learn_inf.predict(img)\n",
        "    # lbl_pred.value = f'Prediction: {pred}; Probability: {probs[pred_idx]:.04f}'\n"
      ],
      "metadata": {
        "id": "U1RhUwoT_F6x"
      },
      "execution_count": 52,
      "outputs": []
    },
    {
      "cell_type": "code",
      "source": [
        "def on_click_classify(change):\n",
        "    img = PILImage.create(btn_upload.data[-1])\n",
        "    out_pl.clear_output()\n",
        "    with out_pl: display(img.to_thumb(128,128))\n",
        "    pred,pred_idx,probs = learn_inf.predict(img)\n",
        "    lbl_pred.value = f'Prediction: {pred}; Probability: {probs[pred_idx]:.04f}'\n",
        "\n",
        "btn_run.on_click(on_click_classify)\n"
      ],
      "metadata": {
        "id": "weJxJOwZUyBA"
      },
      "execution_count": 53,
      "outputs": []
    },
    {
      "cell_type": "code",
      "source": [
        "btn_upload.observe(on_data_change, names=['data'])\n",
        "btn_run.observe(on_click_classify, names=['data'])"
      ],
      "metadata": {
        "id": "Awe_3ysC_J1D"
      },
      "execution_count": 54,
      "outputs": []
    },
    {
      "cell_type": "code",
      "source": [
        "VBox([widgets.Label('Select your PikaEvolution!'), \n",
        "      btn_upload, btn_run, out_pl, lbl_pred])"
      ],
      "metadata": {
        "colab": {
          "base_uri": "https://localhost:8080/",
          "height": 230,
          "referenced_widgets": [
            "062d6ea1302149d8afeee78f22dcd280",
            "bbc86946e0d943cf8c42088a3c90a483",
            "8818077863da4b56a732d0ba3c9d4d7f",
            "46d14e8a32ab45df96f3f8de487f5cb2",
            "3fe44e8cc14446188f3d1f959e000f9d",
            "f6bcf1512f4e4983987dc336f0446a12",
            "d86a0a2535d04fcba2bd80a7a33c5af9",
            "03d47223c48e4949a84f85ea8c543007",
            "e112c4961e6e4270bd76c4fc469b3d47",
            "076bea80b96b4e288d98099007331950",
            "b240ef0bcde7498988db98ed590e6c06",
            "a3273ce50e8d496ea0b88db6e7880135",
            "e99e874d1fa04c838382dec9428b05f1",
            "d3eb53ffdfde4a7abb7a01b1a5d08b7a",
            "89bb05cc25fd4961b05c58e9e5d8dd22",
            "095b3a7b798c4a8785b42ba417aa911e"
          ]
        },
        "id": "bQZNU07A_OHT",
        "outputId": "0b59de78-f22a-4990-d26a-74c5cfeb6865"
      },
      "execution_count": 55,
      "outputs": [
        {
          "output_type": "display_data",
          "data": {
            "text/plain": [
              "VBox(children=(Label(value='Select your PikaEvolution!'), FileUpload(value={'garfield.jpg': {'metadata': {'nam…"
            ],
            "application/vnd.jupyter.widget-view+json": {
              "version_major": 2,
              "version_minor": 0,
              "model_id": "062d6ea1302149d8afeee78f22dcd280"
            }
          },
          "metadata": {}
        },
        {
          "output_type": "display_data",
          "data": {
            "text/plain": [
              "<IPython.core.display.HTML object>"
            ],
            "text/html": [
              "\n",
              "<style>\n",
              "    /* Turns off some styling */\n",
              "    progress {\n",
              "        /* gets rid of default border in Firefox and Opera. */\n",
              "        border: none;\n",
              "        /* Needs to be in here for Safari polyfill so background images work as expected. */\n",
              "        background-size: auto;\n",
              "    }\n",
              "    progress:not([value]), progress:not([value])::-webkit-progress-bar {\n",
              "        background: repeating-linear-gradient(45deg, #7e7e7e, #7e7e7e 10px, #5c5c5c 10px, #5c5c5c 20px);\n",
              "    }\n",
              "    .progress-bar-interrupted, .progress-bar-interrupted::-webkit-progress-bar {\n",
              "        background: #F44336;\n",
              "    }\n",
              "</style>\n"
            ]
          },
          "metadata": {}
        },
        {
          "output_type": "display_data",
          "data": {
            "text/plain": [
              "<IPython.core.display.HTML object>"
            ],
            "text/html": []
          },
          "metadata": {}
        },
        {
          "output_type": "display_data",
          "data": {
            "text/plain": [
              "<IPython.core.display.HTML object>"
            ],
            "text/html": [
              "\n",
              "<style>\n",
              "    /* Turns off some styling */\n",
              "    progress {\n",
              "        /* gets rid of default border in Firefox and Opera. */\n",
              "        border: none;\n",
              "        /* Needs to be in here for Safari polyfill so background images work as expected. */\n",
              "        background-size: auto;\n",
              "    }\n",
              "    progress:not([value]), progress:not([value])::-webkit-progress-bar {\n",
              "        background: repeating-linear-gradient(45deg, #7e7e7e, #7e7e7e 10px, #5c5c5c 10px, #5c5c5c 20px);\n",
              "    }\n",
              "    .progress-bar-interrupted, .progress-bar-interrupted::-webkit-progress-bar {\n",
              "        background: #F44336;\n",
              "    }\n",
              "</style>\n"
            ]
          },
          "metadata": {}
        },
        {
          "output_type": "display_data",
          "data": {
            "text/plain": [
              "<IPython.core.display.HTML object>"
            ],
            "text/html": []
          },
          "metadata": {}
        },
        {
          "output_type": "display_data",
          "data": {
            "text/plain": [
              "<IPython.core.display.HTML object>"
            ],
            "text/html": [
              "\n",
              "<style>\n",
              "    /* Turns off some styling */\n",
              "    progress {\n",
              "        /* gets rid of default border in Firefox and Opera. */\n",
              "        border: none;\n",
              "        /* Needs to be in here for Safari polyfill so background images work as expected. */\n",
              "        background-size: auto;\n",
              "    }\n",
              "    progress:not([value]), progress:not([value])::-webkit-progress-bar {\n",
              "        background: repeating-linear-gradient(45deg, #7e7e7e, #7e7e7e 10px, #5c5c5c 10px, #5c5c5c 20px);\n",
              "    }\n",
              "    .progress-bar-interrupted, .progress-bar-interrupted::-webkit-progress-bar {\n",
              "        background: #F44336;\n",
              "    }\n",
              "</style>\n"
            ]
          },
          "metadata": {}
        },
        {
          "output_type": "display_data",
          "data": {
            "text/plain": [
              "<IPython.core.display.HTML object>"
            ],
            "text/html": []
          },
          "metadata": {}
        },
        {
          "output_type": "display_data",
          "data": {
            "text/plain": [
              "<IPython.core.display.HTML object>"
            ],
            "text/html": [
              "\n",
              "<style>\n",
              "    /* Turns off some styling */\n",
              "    progress {\n",
              "        /* gets rid of default border in Firefox and Opera. */\n",
              "        border: none;\n",
              "        /* Needs to be in here for Safari polyfill so background images work as expected. */\n",
              "        background-size: auto;\n",
              "    }\n",
              "    progress:not([value]), progress:not([value])::-webkit-progress-bar {\n",
              "        background: repeating-linear-gradient(45deg, #7e7e7e, #7e7e7e 10px, #5c5c5c 10px, #5c5c5c 20px);\n",
              "    }\n",
              "    .progress-bar-interrupted, .progress-bar-interrupted::-webkit-progress-bar {\n",
              "        background: #F44336;\n",
              "    }\n",
              "</style>\n"
            ]
          },
          "metadata": {}
        },
        {
          "output_type": "display_data",
          "data": {
            "text/plain": [
              "<IPython.core.display.HTML object>"
            ],
            "text/html": []
          },
          "metadata": {}
        },
        {
          "output_type": "display_data",
          "data": {
            "text/plain": [
              "<IPython.core.display.HTML object>"
            ],
            "text/html": [
              "\n",
              "<style>\n",
              "    /* Turns off some styling */\n",
              "    progress {\n",
              "        /* gets rid of default border in Firefox and Opera. */\n",
              "        border: none;\n",
              "        /* Needs to be in here for Safari polyfill so background images work as expected. */\n",
              "        background-size: auto;\n",
              "    }\n",
              "    progress:not([value]), progress:not([value])::-webkit-progress-bar {\n",
              "        background: repeating-linear-gradient(45deg, #7e7e7e, #7e7e7e 10px, #5c5c5c 10px, #5c5c5c 20px);\n",
              "    }\n",
              "    .progress-bar-interrupted, .progress-bar-interrupted::-webkit-progress-bar {\n",
              "        background: #F44336;\n",
              "    }\n",
              "</style>\n"
            ]
          },
          "metadata": {}
        },
        {
          "output_type": "display_data",
          "data": {
            "text/plain": [
              "<IPython.core.display.HTML object>"
            ],
            "text/html": []
          },
          "metadata": {}
        },
        {
          "output_type": "display_data",
          "data": {
            "text/plain": [
              "<IPython.core.display.HTML object>"
            ],
            "text/html": [
              "\n",
              "<style>\n",
              "    /* Turns off some styling */\n",
              "    progress {\n",
              "        /* gets rid of default border in Firefox and Opera. */\n",
              "        border: none;\n",
              "        /* Needs to be in here for Safari polyfill so background images work as expected. */\n",
              "        background-size: auto;\n",
              "    }\n",
              "    progress:not([value]), progress:not([value])::-webkit-progress-bar {\n",
              "        background: repeating-linear-gradient(45deg, #7e7e7e, #7e7e7e 10px, #5c5c5c 10px, #5c5c5c 20px);\n",
              "    }\n",
              "    .progress-bar-interrupted, .progress-bar-interrupted::-webkit-progress-bar {\n",
              "        background: #F44336;\n",
              "    }\n",
              "</style>\n"
            ]
          },
          "metadata": {}
        },
        {
          "output_type": "display_data",
          "data": {
            "text/plain": [
              "<IPython.core.display.HTML object>"
            ],
            "text/html": []
          },
          "metadata": {}
        }
      ]
    }
  ]
}